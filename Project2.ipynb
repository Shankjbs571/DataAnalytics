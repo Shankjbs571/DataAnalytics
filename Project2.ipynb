{
  "nbformat": 4,
  "nbformat_minor": 0,
  "metadata": {
    "colab": {
      "provenance": [],
      "authorship_tag": "ABX9TyPVgvtBO6zyW/PGj4vDQuNi"
    },
    "kernelspec": {
      "name": "python3",
      "display_name": "Python 3"
    },
    "language_info": {
      "name": "python"
    }
  },
  "cells": [
    {
      "cell_type": "code",
      "source": [
        "import csv\n",
        "import pandas as pd\n",
        "\n"
      ],
      "metadata": {
        "id": "TuqAXZqBpzM-"
      },
      "execution_count": 17,
      "outputs": []
    },
    {
      "cell_type": "code",
      "source": [
        "with open(\"ratings.csv\",'r') as file1:\n",
        "  sheet=csv.reader(file1)\n",
        "  # print(len(sheet))\n",
        "  for row in sheet:\n",
        "    print(row[0])\n",
        "    break\n",
        ""
      ],
      "metadata": {
        "id": "FXI25phyVSW2",
        "colab": {
          "base_uri": "https://localhost:8080/"
        },
        "outputId": "67895ff1-c356-41f8-d20a-9724e909c1c5"
      },
      "execution_count": 15,
      "outputs": [
        {
          "output_type": "stream",
          "name": "stdout",
          "text": [
            "user_id\n"
          ]
        }
      ]
    },
    {
      "cell_type": "code",
      "source": [
        "file_path = 'ratings.csv'\n",
        "column_name = 'user_id'\n",
        "df = pd.read_csv(file_path)\n",
        "unique_values_count = df[column_name].nunique()\n",
        "print(unique_values_count)"
      ],
      "metadata": {
        "colab": {
          "base_uri": "https://localhost:8080/"
        },
        "id": "ullaEA67q_OH",
        "outputId": "661d8d2c-99e5-42b4-8e4f-9e8849f60162"
      },
      "execution_count": 18,
      "outputs": [
        {
          "output_type": "stream",
          "name": "stdout",
          "text": [
            "50798\n"
          ]
        }
      ]
    },
    {
      "cell_type": "code",
      "source": [
        "books = pd.read_csv('books.csv')\n",
        "max_rating_row = books[books['work_ratings_count'] == books['work_ratings_count'].max()]\n",
        "\n",
        "# Extract the title and rating from the row\n",
        "title_with_highest_rating = max_rating_row['title'].values[0]\n",
        "highest_rating = max_rating_row['work_ratings_count'].values[0]\n",
        "\n",
        "print(f\"The title with the highest rating is '{title_with_highest_rating}' with a rating of {highest_rating}.\")"
      ],
      "metadata": {
        "colab": {
          "base_uri": "https://localhost:8080/"
        },
        "id": "uT_VvJhIs_6y",
        "outputId": "a9b1ec2f-9848-4069-da97-a7d11559d0c7"
      },
      "execution_count": 21,
      "outputs": [
        {
          "output_type": "stream",
          "name": "stdout",
          "text": [
            "The title with the highest rating is 'The Hunger Games (The Hunger Games, #1)' with a rating of 4942365.\n"
          ]
        }
      ]
    },
    {
      "cell_type": "code",
      "source": [
        "books_with_same_title_count = (books['title'] == books['original_title']).sum()\n",
        "print(books_with_same_title_count)\n",
        "#books_with_same_title_count=349\n",
        "books_without_same_title_count = (books['title'] != books['original_title']).sum()\n",
        "print(books_without_same_title_count)"
      ],
      "metadata": {
        "colab": {
          "base_uri": "https://localhost:8080/"
        },
        "id": "UHT91dZkumti",
        "outputId": "ad66213d-54fe-4aa2-8055-ea4dfa29c53a"
      },
      "execution_count": 23,
      "outputs": [
        {
          "output_type": "stream",
          "name": "stdout",
          "text": [
            "349\n",
            "1005\n"
          ]
        }
      ]
    },
    {
      "cell_type": "code",
      "source": [
        "unique_books_count = books['book_id'].nunique()\n",
        "print(\"unique_books_count\",unique_books_count)"
      ],
      "metadata": {
        "colab": {
          "base_uri": "https://localhost:8080/"
        },
        "id": "OhewhfS8vuDQ",
        "outputId": "6e4e89bf-5546-484d-8023-d5fd4ea0524e"
      },
      "execution_count": 26,
      "outputs": [
        {
          "output_type": "stream",
          "name": "stdout",
          "text": [
            "unique_books_count 1354\n"
          ]
        }
      ]
    },
    {
      "cell_type": "code",
      "source": [
        "file_path = 'book_tags.csv'\n",
        "book_tags = pd.read_csv(file_path)\n",
        "print(book_tags.head())\n",
        "grouped_df = book_tags.groupby('goodreads_book_id')['count'].sum().reset_index()\n",
        "print(grouped_df.head())\n",
        "min_count_book_id = grouped_df.loc[grouped_df['count'].idxmin()]['goodreads_book_id']\n",
        "min_count_value = grouped_df['count'].min()\n",
        "print(grouped_df.loc[grouped_df['count'].idxmin()])\n",
        "print(f\"The 'goodreads_book_id' with the least total count is: {min_count_book_id}\")\n",
        "print(f\"The least total count is: {min_count_value}\")"
      ],
      "metadata": {
        "colab": {
          "base_uri": "https://localhost:8080/"
        },
        "id": "hOWkdmU2x82E",
        "outputId": "f34029cb-57ac-4d5a-f7e7-d5fcd0f1e89e"
      },
      "execution_count": 29,
      "outputs": [
        {
          "output_type": "stream",
          "name": "stdout",
          "text": [
            "   goodreads_book_id  tag_id   count\n",
            "0                  1   30574  167697\n",
            "1                  1   11305   37174\n",
            "2                  1   11557   34173\n",
            "3                  1    8717   12986\n",
            "4                  1   33114   12716\n",
            "   goodreads_book_id   count\n",
            "0                  1  359447\n",
            "1                  2   73667\n",
            "2                  3  786374\n",
            "3                  5  227215\n",
            "4                  6  141246\n",
            "goodreads_book_id    15743078\n",
            "count                     686\n",
            "Name: 1197, dtype: int64\n",
            "The 'goodreads_book_id' with the least total count is: 15743078\n",
            "The least total count is: 686\n"
          ]
        }
      ]
    },
    {
      "cell_type": "code",
      "source": [
        "\n",
        "toread = pd.read_csv('toread.csv')\n",
        "\n",
        "book_user_count = toread.groupby('book_id')['user_id'].nunique()\n",
        "book_user_countrst = toread.groupby('book_id')['user_id'].agg(list).reset_index()\n",
        "# book_user_list = df.groupby('book_id')['user_id'].agg(list).reset_index()\n",
        "\n",
        "for row in book_user_countrst:\n",
        "  print(row)\n",
        "  if row[0]==2:\n",
        "    break\n",
        "print(book_user_countrst)\n",
        "most_users_book_id = book_user_count.idxmax()\n",
        "most_users_count = book_user_count.max()\n",
        "\n",
        "print(f\"The 'book_id' with the most associated 'user_id' is: {most_users_book_id}\")\n",
        "print(f\"The number of unique 'user_id' for this book is: {most_users_count}\")\n"
      ],
      "metadata": {
        "colab": {
          "base_uri": "https://localhost:8080/"
        },
        "id": "rlRTHOAK3YQs",
        "outputId": "f2a4ee14-0c5f-4324-ffe6-183349088c74"
      },
      "execution_count": 37,
      "outputs": [
        {
          "output_type": "stream",
          "name": "stdout",
          "text": [
            "book_id\n",
            "user_id\n",
            "      book_id                                            user_id\n",
            "0           1  [5453, 6891, 525, 3250, 6187, 4341, 6821, 8117...\n",
            "1           2  [1953, 2965, 3028, 2240, 457, 4337, 4647, 5127...\n",
            "2           3  [590, 2952, 4205, 5598, 5778, 2432, 6284, 4670...\n",
            "3           6  [18826, 18922, 8130, 17184, 18926, 13366, 1854...\n",
            "4          12  [19975, 13504, 7728, 22382, 29417, 17682, 1559...\n",
            "...       ...                                                ...\n",
            "1349     9925  [17025, 34220, 33486, 39328, 9084, 38430, 4275...\n",
            "1350     9937  [16060, 13568, 26214, 24136, 27173, 12541, 282...\n",
            "1351     9942  [30001, 11710, 11084, 24424, 13255, 37256, 221...\n",
            "1352     9947  [10231, 23002, 23274, 29876, 29357, 27348, 325...\n",
            "1353     9955  [15270, 19891, 11288, 24333, 28790, 36628, 329...\n",
            "\n",
            "[1354 rows x 2 columns]\n",
            "The 'book_id' with the most associated 'user_id' is: 47\n",
            "The number of unique 'user_id' for this book is: 2772\n"
          ]
        }
      ]
    },
    {
      "cell_type": "code",
      "source": [
        "\n",
        "print(book_tags.head())\n",
        "grouped_df = book_tags.groupby('goodreads_book_id')['count'].sum().reset_index()\n",
        "print(grouped_df.head())\n",
        "min_count_book_id = grouped_df.loc[grouped_df['count'].idxmax()]['goodreads_book_id']\n",
        "min_count_value = grouped_df['count'].max()\n",
        "print(grouped_df.loc[grouped_df['count'].idxmax()])\n",
        "print(f\"The 'goodreads_book_id' with the highest total count is: {min_count_book_id}\")\n",
        "print(f\"The highest total count is: {min_count_value}\")"
      ],
      "metadata": {
        "colab": {
          "base_uri": "https://localhost:8080/"
        },
        "id": "0ZRx8vxL8J58",
        "outputId": "1f293b6f-8d62-4062-c792-50af1f3721b7"
      },
      "execution_count": 38,
      "outputs": [
        {
          "output_type": "stream",
          "name": "stdout",
          "text": [
            "   goodreads_book_id  tag_id   count\n",
            "0                  1   30574  167697\n",
            "1                  1   11305   37174\n",
            "2                  1   11557   34173\n",
            "3                  1    8717   12986\n",
            "4                  1   33114   12716\n",
            "   goodreads_book_id   count\n",
            "0                  1  359447\n",
            "1                  2   73667\n",
            "2                  3  786374\n",
            "3                  5  227215\n",
            "4                  6  141246\n",
            "goodreads_book_id         3\n",
            "count                786374\n",
            "Name: 2, dtype: int64\n",
            "The 'goodreads_book_id' with the highest total count is: 3\n",
            "The highest total count is: 786374\n"
          ]
        }
      ]
    }
  ]
}